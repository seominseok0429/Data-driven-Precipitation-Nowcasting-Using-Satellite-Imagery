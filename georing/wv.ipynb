{
 "cells": [
  {
   "cell_type": "markdown",
   "id": "4ef19247-de83-4360-a3a5-5c38a4ea28e9",
   "metadata": {},
   "source": [
    "## GK2A"
   ]
  },
  {
   "cell_type": "code",
   "execution_count": 7,
   "id": "ed384b7e-b4a9-4db0-b6d0-ebca6f03be05",
   "metadata": {},
   "outputs": [
    {
     "name": "stdout",
     "output_type": "stream",
     "text": [
      "Metadata added successfully.\n",
      "Input file size is 5500, 5500\n",
      "0...10...20...30...40...50...60...70...80...90...100 - done.\n",
      "GeoTIFF file has been successfully created with the specified origin and pixel size.\n",
      "Processing gk2a_platecarree_wv.tif [1/1] : 0"
     ]
    },
    {
     "name": "stderr",
     "output_type": "stream",
     "text": [
      "ERROR 1: Too many points (529 out of 529) failed to transform, unable to compute output bounds.\n",
      "Warning 1: Unable to compute source region for output window 1777,0,1777,3158, skipping.\n"
     ]
    },
    {
     "name": "stdout",
     "output_type": "stream",
     "text": [
      "Using internal nodata values (e.g. 65535) for image gk2a_platecarree_wv.tif.\n",
      "...10...20...30...40...50...60...70...80...90...100 - done.\n"
     ]
    },
    {
     "name": "stderr",
     "output_type": "stream",
     "text": [
      "/tmp/ipykernel_4045/759965938.py:25: RuntimeWarning: invalid value encountered in log\n",
      "  t_eff = ((hval * cval / kval) * wn) / np.log((e1 / e2) + 1)\n"
     ]
    },
    {
     "name": "stdout",
     "output_type": "stream",
     "text": [
      "Processed GeoTIFF file saved as processed_gk2a_platecarree_wv_geo.tif\n"
     ]
    }
   ],
   "source": [
    "import os\n",
    "from netCDF4 import Dataset\n",
    "import numpy as np\n",
    "from osgeo import gdal, osr\n",
    "from pyproj import Transformer\n",
    "import rasterio\n",
    "\n",
    "def get_gk2a_wv_bt(ipixel):\n",
    "    gain = -0.0108914673328399 #WV063\n",
    "    offset = 44.1777038574218 #WV063\n",
    "    c0 = -1.76279494011147\n",
    "    c1 = 1.00414910562278\n",
    "    c2 = -9.83310914319385e-07\n",
    "\n",
    "    cval = 299792458.0\n",
    "    kval =1.3806488e-23\n",
    "    hval =  6.62606957e-34\n",
    "\n",
    "    wv_wave =6.21\n",
    "    wn = (10000 /wv_wave) * 100\n",
    "    e1 = (2 * hval * cval * cval) * np.power(wn, 3)\n",
    "\n",
    "    data = gain * ipixel + offset\n",
    "    e2 = (data * 1e-5)\n",
    "    t_eff = ((hval * cval / kval) * wn) / np.log((e1 / e2) + 1)\n",
    "    bt_data = c0 + c1 * t_eff + c2 * t_eff * t_eff\n",
    "\n",
    "    gsics_data = bt_data\n",
    "    gsics_data = np.asarray(gsics_data)\n",
    "\n",
    "    return gsics_data\n",
    "    \n",
    "nc_file = Dataset('gk2a_ami_le1b_wv063_fd020ge_202303210310.nc', 'a')\n",
    "\n",
    "# Add global metadata\n",
    "nc_file.setncattr('spatial_resolution', '2km at nadir')\n",
    "nc_file.setncattr('project', 'GOES')\n",
    "\n",
    "nc_file.close()\n",
    "\n",
    "print(\"Metadata added successfully.\")\n",
    "\n",
    "# Define the origin and pixel size\n",
    "origin_x, origin_y = -5505547.6175907375, 5505547.6175907375\n",
    "pixel_width, pixel_height = 2002.017315487541055, -2002.017315487541055\n",
    "\n",
    "# Convert netCDF to GeoTIFF\n",
    "command_gk2a_1 = (\n",
    "    'gdal_translate -ot float32 -a_srs \"+proj=geos +lon_0=128.2 +h=35786023 +sweep=x +datum=WGS84\" '\n",
    "    '-unscale -co COMPRESS=deflate NETCDF:\"./gk2a_ami_le1b_wv063_fd020ge_202303210310.nc\":image_pixel_values gk2a_platecarree_wv.tif'\n",
    ")\n",
    "os.system(command_gk2a_1)\n",
    "\n",
    "# Update the origin and pixel size using gdal_edit.py\n",
    "command_gk2a_2 = (\n",
    "    f'gdal_edit.py -a_ullr {origin_x} {origin_y} {origin_x + pixel_width * 5500} {origin_y + pixel_height * 5500} gk2a_platecarree_wv.tif'\n",
    ")\n",
    "os.system(command_gk2a_2)\n",
    "\n",
    "print(\"GeoTIFF file has been successfully created with the specified origin and pixel size.\")\n",
    "\n",
    "command_gk2a_2 = 'gdalwarp -t_srs EPSG:4326 -dstnodata 32768 gk2a_platecarree_wv.tif gk2a_platecarree_wv_geo.tif'\n",
    "\n",
    "os.system(command_gk2a_2)\n",
    "\n",
    "tif_file = 'gk2a_platecarree_wv_geo.tif'\n",
    "output_tif_file = 'processed_gk2a_platecarree_wv_geo.tif'\n",
    "\n",
    "with rasterio.open(tif_file) as src:\n",
    "    data = src.read(1)\n",
    "    processed_data = get_gk2a_wv_bt(data)\n",
    "    meta = src.meta.copy()\n",
    "    \n",
    "    meta.update(dtype=rasterio.float32, nodata=np.nan)\n",
    "\n",
    "    # Write the processed data to a new file\n",
    "    with rasterio.open(output_tif_file, 'w', **meta) as dst:\n",
    "        dst.write(processed_data.astype(rasterio.float32), 1)\n",
    "\n",
    "print(f\"Processed GeoTIFF file saved as {output_tif_file}\")"
   ]
  },
  {
   "cell_type": "markdown",
   "id": "ca94a59f-ceeb-4dfc-a7bd-56014d3450db",
   "metadata": {},
   "source": [
    "## Metsat"
   ]
  },
  {
   "cell_type": "code",
   "execution_count": 8,
   "id": "8cbbb41d-09e5-4744-b8ac-079de5e62493",
   "metadata": {},
   "outputs": [
    {
     "name": "stdout",
     "output_type": "stream",
     "text": [
      "Input file size is 3712, 3712\n",
      "0...10...20...30...40...50...60...70...80...90...100 - done.\n",
      "Processing metsat_platecarree_wv.tif [1/1] : 0Using internal nodata values (e.g. 0) for image metsat_platecarree_wv.tif.\n",
      "...10...20...30...40...50...60...70...80...90...100 - done.\n"
     ]
    },
    {
     "data": {
      "text/plain": [
       "0"
      ]
     },
     "execution_count": 8,
     "metadata": {},
     "output_type": "execute_result"
    }
   ],
   "source": [
    "command_metsat_1 = 'gdal_translate -b 5 -ot float32 -unscale -CO COMPRESS=deflate \"./MSG4-SEVI-MSG15-0100-NA-20230321031243.846000000Z-NA.nat\" metsat_platecarree_wv.tif'\n",
    "command_metsat_2 = 'gdalwarp -t_srs EPSG:4326 -dstnodata -999.0 metsat_platecarree_wv.tif metsat_platecarree_wv_geo.tif'\n",
    "\n",
    "os.system(command_metsat_1)\n",
    "os.system(command_metsat_2)"
   ]
  },
  {
   "cell_type": "code",
   "execution_count": 50,
   "id": "55699b78-12c7-4d7d-b539-f952eb9cd858",
   "metadata": {},
   "outputs": [
    {
     "name": "stdout",
     "output_type": "stream",
     "text": [
      "Processed GeoTIFF file saved as metsat_platecarree_wv_geo3.tif\n"
     ]
    }
   ],
   "source": [
    "import numpy as np\n",
    "import rasterio\n",
    "\n",
    "# Constants\n",
    "c = 299792458  # Speed of light in m/s\n",
    "h = 6.62606957e-34  # Planck constant in J.s\n",
    "k = 1.3806488e-23  # Boltzmann constant in J/K\n",
    "\n",
    "C1 = 1.19104273e-5\n",
    "C2 = 1.43877523\n",
    "\n",
    "nu_c = 1596.080  # in cm^-1\n",
    "alpha = 0.9959\n",
    "beta = 2.0780  # in K\n",
    "\n",
    "#gain = 0.03862197\n",
    "#offset = -0.42422367 #0.03862197, offset = -1.96972038\n",
    "gain = 0.00831811\n",
    "#gain = 0.00631811\n",
    "offset = -0.42422367\n",
    "\n",
    "def process_and_save(input_file, output_file):\n",
    "    with rasterio.open(input_file) as src:\n",
    "        data = src.read(1)  # Read the first band\n",
    "        data = (data * gain + offset)\n",
    "        data[data <= 0] = np.nan\n",
    "        \n",
    "        # Apply the conversion formula\n",
    "        data = ((C2 * nu_c) / np.log((1.0 / data) * C1 * nu_c ** 3 + 1.0))\n",
    "        data = (data - beta) / alpha\n",
    "        \n",
    "        # Update metadata\n",
    "        meta = src.meta.copy()\n",
    "        meta.update(dtype=rasterio.float32, nodata=np.nan)\n",
    "\n",
    "        # Write the processed data to a new file\n",
    "        with rasterio.open(output_file, 'w', **meta) as dst:\n",
    "            dst.write(data.astype(rasterio.float32), 1)\n",
    "\n",
    "    print(f\"Processed GeoTIFF file saved as {output_file}\")\n",
    "\n",
    "# Process the individual files\n",
    "input_files = ['metsat_platecarree_wv_geo.tif']\n",
    "processed_files = ['metsat_platecarree_wv_geo3.tif']\n",
    "\n",
    "for input_file, output_file in zip(input_files, processed_files):\n",
    "    process_and_save(input_file, output_file)\n"
   ]
  },
  {
   "cell_type": "markdown",
   "id": "7b8f0c78-3226-46fd-aa9d-c8a9b563e06b",
   "metadata": {},
   "source": [
    "## GEOS16"
   ]
  },
  {
   "cell_type": "code",
   "execution_count": 16,
   "id": "630ab2c5-49b4-4e51-bc7a-2f5d1f0a18ed",
   "metadata": {},
   "outputs": [
    {
     "name": "stdout",
     "output_type": "stream",
     "text": [
      "Input file size is 5424, 5424\n",
      "0...10...20...30...40...50...60...70...80...90...100 - done.\n",
      "Creating output file that is 7061P x 2997L.\n",
      "Processing geos18_platecarree_wv.tif [1/1] : 0"
     ]
    },
    {
     "name": "stderr",
     "output_type": "stream",
     "text": [
      "ERROR 1: Too many points (529 out of 529) failed to transform, unable to compute output bounds.\n",
      "Warning 1: Unable to compute source region for output window 3530,0,1765,2997, skipping.\n"
     ]
    },
    {
     "name": "stdout",
     "output_type": "stream",
     "text": [
      "Using internal nodata values (e.g. 4095) for image geos18_platecarree_wv.tif.\n",
      "...10...20...30...40...50...60...70...80...90...100 - done.\n"
     ]
    },
    {
     "data": {
      "text/plain": [
       "0"
      ]
     },
     "execution_count": 16,
     "metadata": {},
     "output_type": "execute_result"
    }
   ],
   "source": [
    "import os\n",
    "from netCDF4 import Dataset\n",
    "import numpy as np\n",
    "from osgeo import gdal, osr\n",
    "from pyproj import Transformer\n",
    "import rasterio\n",
    "\n",
    "def get_geos18_wv_bt(rad):\n",
    "    planck_fk1 = 50343.5\n",
    "    planck_fk2 = 2326.3\n",
    "    planck_bc1 = 1.69185\n",
    "    planck_bc2 = 0.99636 \n",
    "    BT = ((planck_fk2 / (np.log((planck_fk1 / rad) + 1))) - planck_bc1) / planck_bc2\n",
    "    gsics_data = np.asarray(BT)\n",
    "    return gsics_data\n",
    "\n",
    "command_g18_1 = 'gdal_translate -ot float32 -unscale -CO COMPRESS=deflate NETCDF:\"./OR_ABI-L1b-RadF-M6C08_G18_s20230800310204_e20230800319512_c20230800319566.nc\":Rad geos18_platecarree_wv.tif'\n",
    "command_g18_2 = 'gdalwarp -t_srs EPSG:4326 -dstnodata -999.0 geos18_platecarree_wv.tif geos18_platecarree_wv_geo.tif'\n",
    "\n",
    "os.system(command_g18_1)\n",
    "os.system(command_g18_2)"
   ]
  },
  {
   "cell_type": "code",
   "execution_count": 23,
   "id": "9fb4ef7c-a063-4a88-8c10-ef9696285d9d",
   "metadata": {},
   "outputs": [
    {
     "name": "stdout",
     "output_type": "stream",
     "text": [
      "Processed GeoTIFF file saved as geos18_platecarree_wv_geo2.tif\n"
     ]
    },
    {
     "name": "stderr",
     "output_type": "stream",
     "text": [
      "/tmp/ipykernel_2708/3222414093.py:13: RuntimeWarning: invalid value encountered in log\n",
      "  BT = ((planck_fk2 / (np.log((planck_fk1 / rad) + 1))) - planck_bc1) / planck_bc2\n"
     ]
    }
   ],
   "source": [
    "tif_file = 'geos18_platecarree_wv_geo.tif'\n",
    "output_tif_file = 'geos18_platecarree_wv_geo2.tif'\n",
    "\n",
    "with rasterio.open(tif_file) as src:\n",
    "    data = src.read(1)\n",
    "    processed_data = get_geos18_wv_bt(data)\n",
    "    processed_data[processed_data < 0] = np.nan\n",
    "    meta = src.meta.copy()\n",
    "    \n",
    "    meta.update(dtype=rasterio.float32, nodata= np.nan)\n",
    "\n",
    "    # Write the processed data to a new file\n",
    "    with rasterio.open(output_tif_file, 'w', **meta) as dst:\n",
    "        dst.write(processed_data.astype(rasterio.float32), 1)\n",
    "\n",
    "print(f\"Processed GeoTIFF file saved as {output_tif_file}\")"
   ]
  },
  {
   "cell_type": "markdown",
   "id": "e8d01abd-8482-4c14-a72e-6bdd882f4364",
   "metadata": {},
   "source": [
    "## MERGE"
   ]
  },
  {
   "cell_type": "code",
   "execution_count": 1,
   "id": "d05aa65f-4662-4a69-9eda-2ace4f4c407a",
   "metadata": {},
   "outputs": [
    {
     "name": "stdout",
     "output_type": "stream",
     "text": [
      "0...10...20...30...40...50...60...70...80...90...100 - done.\n",
      "Files have been successfully merged into abaa.tif\n"
     ]
    }
   ],
   "source": [
    "import os\n",
    "import subprocess\n",
    "import rasterio\n",
    "import numpy as np\n",
    "\n",
    "# Define the input files and nodata value\n",
    "input_files = ['processed_gk2a_platecarree_wv_geo.tif', 'metsat_platecarree_wv_geo3.tif', 'geos18_platecarree_wv_geo2.tif']\n",
    "\n",
    "# Merge the reprojected files with nodata handling\n",
    "merge_command = f'gdal_merge.py -ps 0.018 0.018 -o pray_pray_wv_pr2.tif ' + ' '.join(input_files)\n",
    "subprocess.run(merge_command, shell=True)\n",
    "\n",
    "print(\"Files have been successfully merged into abaa.tif\")\n"
   ]
  },
  {
   "cell_type": "code",
   "execution_count": 2,
   "id": "b80ea18f-71b2-4f4b-ae87-b97c69d69fb0",
   "metadata": {},
   "outputs": [
    {
     "name": "stdout",
     "output_type": "stream",
     "text": [
      "0...10...20...30...40...50...60...70...80...90...100 - done.\n",
      "Files have been successfully merged into abaa.tif\n"
     ]
    }
   ],
   "source": [
    "import os\n",
    "import subprocess\n",
    "import rasterio\n",
    "import numpy as np\n",
    "\n",
    "# Define the input files and nodata value\n",
    "input_files = ['metsat_platecarree_wv_geo3.tif', 'geos18_platecarree_wv_geo2.tif', 'processed_gk2a_platecarree_wv_geo.tif']\n",
    "\n",
    "merge_command = f'gdal_merge.py -ps 0.018 0.018 -o pray_pray_wv_pr3.tif ' + ' '.join(input_files)\n",
    "subprocess.run(merge_command, shell=True)\n",
    "\n",
    "print(\"Files have been successfully merged into abaa.tif\")\n"
   ]
  },
  {
   "cell_type": "code",
   "execution_count": 3,
   "id": "0fae3921-4c14-45d7-af93-fb51aa761842",
   "metadata": {},
   "outputs": [],
   "source": [
    "output_tif_file = 'final_wv.tif'\n",
    "tif_file = 'pray_pray_wv_pr3.tif'\n",
    "\n",
    "with rasterio.open(tif_file) as src:\n",
    "    data1 = src.read(1)\n",
    "\n",
    "tif_file = 'pray_pray_wv_pr2.tif'\n",
    "\n",
    "with rasterio.open(tif_file) as src:\n",
    "    data2 = src.read(1)\n",
    "    data2[:, -2500:] = data1[:,-2500:]\n",
    "    meta = src.meta.copy()\n",
    "    \n",
    "    meta.update(dtype=rasterio.float32, nodata=np.nan)\n",
    "\n",
    "    # Write the processed data to a new file\n",
    "    with rasterio.open(output_tif_file, 'w', **meta) as dst:\n",
    "        dst.write(data2.astype(rasterio.float32), 1)"
   ]
  },
  {
   "cell_type": "code",
   "execution_count": null,
   "id": "6f0e2d59-b90f-4cf2-9819-2c9146fa68fe",
   "metadata": {},
   "outputs": [],
   "source": []
  },
  {
   "cell_type": "code",
   "execution_count": 16,
   "id": "c12d2250-441c-4c53-b046-e64b63aed47e",
   "metadata": {},
   "outputs": [
    {
     "name": "stdout",
     "output_type": "stream",
     "text": [
      "Collecting numpy==1.25.0\n",
      "  Downloading numpy-1.25.0-cp310-cp310-manylinux_2_17_x86_64.manylinux2014_x86_64.whl (17.6 MB)\n",
      "\u001b[2K     \u001b[90m━━━━━━━━━━━━━━━━━━━━━━━━━━━━━━━━━━━━━━━━\u001b[0m \u001b[32m17.6/17.6 MB\u001b[0m \u001b[31m23.2 MB/s\u001b[0m eta \u001b[36m0:00:00\u001b[0m00:01\u001b[0m00:01\u001b[0m\n",
      "\u001b[?25hInstalling collected packages: numpy\n",
      "  Attempting uninstall: numpy\n",
      "    Found existing installation: numpy 2.0.1\n",
      "    Uninstalling numpy-2.0.1:\n",
      "      Successfully uninstalled numpy-2.0.1\n",
      "Successfully installed numpy-1.25.0\n",
      "\u001b[33mWARNING: Running pip as the 'root' user can result in broken permissions and conflicting behaviour with the system package manager. It is recommended to use a virtual environment instead: https://pip.pypa.io/warnings/venv\u001b[0m\u001b[33m\n",
      "\u001b[0m"
     ]
    }
   ],
   "source": []
  },
  {
   "cell_type": "code",
   "execution_count": 8,
   "id": "6644991c-9c42-4404-b520-556eef5a0a69",
   "metadata": {},
   "outputs": [
    {
     "name": "stdout",
     "output_type": "stream",
     "text": [
      "Requirement already satisfied: netCDF4 in /usr/local/lib/python3.10/dist-packages (1.7.1.post1)\n",
      "Requirement already satisfied: numpy in /usr/local/lib/python3.10/dist-packages (from netCDF4) (1.25.0)\n",
      "Requirement already satisfied: certifi in /usr/local/lib/python3.10/dist-packages (from netCDF4) (2024.7.4)\n",
      "Requirement already satisfied: cftime in /usr/local/lib/python3.10/dist-packages (from netCDF4) (1.6.4)\n",
      "\u001b[33mWARNING: Running pip as the 'root' user can result in broken permissions and conflicting behaviour with the system package manager. It is recommended to use a virtual environment instead: https://pip.pypa.io/warnings/venv\u001b[0m\u001b[33m\n",
      "\u001b[0m"
     ]
    }
   ],
   "source": [
    "!pip install netCDF4"
   ]
  },
  {
   "cell_type": "code",
   "execution_count": null,
   "id": "bce7d5d3-0c11-44fb-b4c0-a2976e423ecb",
   "metadata": {},
   "outputs": [],
   "source": []
  }
 ],
 "metadata": {
  "kernelspec": {
   "display_name": "Python 3 (ipykernel)",
   "language": "python",
   "name": "python3"
  },
  "language_info": {
   "codemirror_mode": {
    "name": "ipython",
    "version": 3
   },
   "file_extension": ".py",
   "mimetype": "text/x-python",
   "name": "python",
   "nbconvert_exporter": "python",
   "pygments_lexer": "ipython3",
   "version": "3.10.13"
  }
 },
 "nbformat": 4,
 "nbformat_minor": 5
}
